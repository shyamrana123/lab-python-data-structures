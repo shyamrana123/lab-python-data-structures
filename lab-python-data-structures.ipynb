{
 "cells": [
  {
   "cell_type": "code",
   "execution_count": null,
   "id": "6aba06c9-1834-48e1-bc78-62ef77e48e0b",
   "metadata": {},
   "outputs": [],
   "source": [
    "#Lab 1\n"
   ]
  },
  {
   "cell_type": "code",
   "execution_count": null,
   "id": "4721f110-dbfd-4aba-8f85-dde70d778622",
   "metadata": {},
   "outputs": [],
   "source": [
    "#Lab | Data Structures\n",
    "#Exercise: Managing Customer Orders\n",
    "#As part of a business venture, you are starting an online store that sells various products. To ensure smooth operations, you need to develop a program that manages customer orders and inventory."
   ]
  },
  {
   "cell_type": "code",
   "execution_count": 1,
   "id": "86ef3ff9-9d04-49d2-9f84-77abf2aae32c",
   "metadata": {},
   "outputs": [
    {
     "data": {
      "text/plain": [
       "['t-shirt', 'mug', 'hat', 'book', 'keychain']"
      ]
     },
     "execution_count": 1,
     "metadata": {},
     "output_type": "execute_result"
    }
   ],
   "source": [
    "#1. Define a list called `products` that contains the following items: \"t-shirt\", \"mug\", \"hat\", \"book\", \"keychain\".\n",
    "\n",
    "products = [\"t-shirt\", \"mug\", \"hat\", \"book\", \"keychain\"]\n",
    "products"
   ]
  },
  {
   "cell_type": "code",
   "execution_count": 3,
   "id": "e831e7ea-e9b4-4943-983c-d3542f5231b5",
   "metadata": {},
   "outputs": [
    {
     "data": {
      "text/plain": [
       "{}"
      ]
     },
     "execution_count": 3,
     "metadata": {},
     "output_type": "execute_result"
    }
   ],
   "source": [
    "#2. Create an empty dictionary called `inventory`.\n",
    "\n",
    "inventory = {}\n",
    "inventory"
   ]
  },
  {
   "cell_type": "code",
   "execution_count": 5,
   "id": "c405a1f4-869a-454d-9792-b8fc5e45ebf6",
   "metadata": {},
   "outputs": [
    {
     "name": "stdin",
     "output_type": "stream",
     "text": [
      "Please enter the quantity of the t-shirt:  54\n",
      "Please enter the quantity of the mug:  54\n",
      "Please enter the quantity of the hat:  33\n",
      "Please enter the quantity of the book:  34\n",
      "Please enter the quantity of the keychain:  54\n"
     ]
    },
    {
     "data": {
      "text/plain": [
       "{'t-shirt': 54, 'mug': 54, 'hat': 33, 'book': 34, 'keychain': 54}"
      ]
     },
     "execution_count": 5,
     "metadata": {},
     "output_type": "execute_result"
    }
   ],
   "source": [
    "#3. Ask the user to input the quantity of each product available in the inventory. Use the product names from the `products` list as keys in the `inventory` dictionary and assign the respective quantities as values.\n",
    "\n",
    "for element in products:\n",
    "    inventory[element] = int(input(f\"Please enter the quantity of the {element}: \" ))\n",
    "    \n",
    "inventory   \n",
    "\n"
   ]
  },
  {
   "cell_type": "code",
   "execution_count": 69,
   "id": "d41f7b15-d58a-4929-9072-f87d7be46fc9",
   "metadata": {},
   "outputs": [
    {
     "name": "stdin",
     "output_type": "stream",
     "text": [
      "Enter the quantity of t-shirt: 3\n",
      "Enter the quantity of mug: 4\n",
      "Enter the quantity of hat: 5\n",
      "Enter the quantity of book: 6\n",
      "Enter the quantity of keychain: 7\n"
     ]
    }
   ],
   "source": [
    "for element in products:\n",
    "    quantity = int(input(f\"Enter the quantity of {element}:\"))\n",
    "    inventory[element]   = quantity    "
   ]
  },
  {
   "cell_type": "code",
   "execution_count": 7,
   "id": "612372aa-12a7-4bcc-891a-7d2978cc6c25",
   "metadata": {},
   "outputs": [],
   "source": [
    "#4. Create an empty set called `customer_orders`.\n",
    "customer_orders = set()"
   ]
  },
  {
   "cell_type": "code",
   "execution_count": 25,
   "id": "f2aae8cb-d089-45c9-a834-437f2161e3f6",
   "metadata": {},
   "outputs": [
    {
     "name": "stdin",
     "output_type": "stream",
     "text": [
      "enter  product number 1 out of 't-shirt', 'mug', 'hat', 'book' or 'keychain': mug\n",
      "enter  product number 2 out of 't-shirt', 'mug', 'hat', 'book' or 'keychain': hat\n",
      "enter  product number 3 out of 't-shirt', 'mug', 'hat', 'book' or 'keychain': book\n"
     ]
    }
   ],
   "source": [
    "#5. Ask the user to input the name of three products that a customer wants to order (from those in the products list, meaning three products out of \"t-shirt\", \"mug\", \"hat\", \"book\" or \"keychain\". Add each product name to the `customer_orders` set.\n",
    "x=0\n",
    "while x < 3:\n",
    "    customer_orders.add(input(f\"enter  product number {x+1} out of 't-shirt', 'mug', 'hat', 'book' or 'keychain':\"))\n",
    "    x += 1\n"
   ]
  },
  {
   "cell_type": "code",
   "execution_count": 27,
   "id": "b1997327-b6ac-4291-bc5d-9b06ad0382ec",
   "metadata": {},
   "outputs": [
    {
     "name": "stdout",
     "output_type": "stream",
     "text": [
      "{'book', 'mug ', 'mug', 'hat'}\n"
     ]
    }
   ],
   "source": [
    "#6. Print the products in the `customer_orders` set.\n",
    "print(customer_orders)"
   ]
  },
  {
   "cell_type": "code",
   "execution_count": 29,
   "id": "d0a54840-7cd2-47c7-b817-bfdea9c44039",
   "metadata": {},
   "outputs": [
    {
     "name": "stdout",
     "output_type": "stream",
     "text": [
      "4\n",
      "(4, 80.0)\n"
     ]
    }
   ],
   "source": [
    "#7. Calculate the following order statistics:\n",
    "   #- Total Products Ordered: The total number of products in the `customer_orders` set.\n",
    "   #- Percentage of Products Ordered: The percentage of products ordered compared to the total available products.\n",
    "   \n",
    "   #Store these statistics in a tuple called `order_status`\n",
    "\n",
    "total_products_ordered = len(customer_orders)\n",
    "print(len(customer_orders))\n",
    "\n",
    "Products_ordered_percentage = len(customer_orders)/len(products)*100\n",
    "\n",
    "order_status = tuple()\n",
    "\n",
    "order_status = (total_products_ordered,Products_ordered_percentage )\n",
    "print(order_status)"
   ]
  },
  {
   "cell_type": "code",
   "execution_count": 39,
   "id": "dacd37c2-4699-4a72-b60b-c60dd5b49b6a",
   "metadata": {},
   "outputs": [
    {
     "name": "stdout",
     "output_type": "stream",
     "text": [
      "Order Statistics\n",
      "Total Products Ordered: 4\n",
      "Percentage of Products Ordered: 80.0%\n"
     ]
    }
   ],
   "source": [
    "#8. Print the order statistics using the following format:\n",
    "\n",
    "#Order Statistics:\n",
    "#Total Products Ordered: <total_products_ordered>\n",
    "#Percentage of Products Ordered: <percentage_ordered>% \n",
    "\n",
    "print(\"Order Statistics\")\n",
    "print(f\"Total Products Ordered: {total_products_ordered}\")\n",
    "print(f\"Percentage of Products Ordered: {Products_ordered_percentage}%\") \n"
   ]
  },
  {
   "cell_type": "code",
   "execution_count": 33,
   "id": "2374fcf1-66bc-4d77-bd46-2985cda77e4a",
   "metadata": {},
   "outputs": [
    {
     "name": "stdout",
     "output_type": "stream",
     "text": [
      "{'t-shirt': 53, 'mug': 53, 'hat': 32, 'book': 33, 'keychain': 53}\n"
     ]
    }
   ],
   "source": [
    "#9. Update the inventory by subtracting 1 from the quantity of each product. Modify the `inventory` dictionary accordingly.\n",
    "\n",
    "for i in inventory:\n",
    "    inventory[i] -= 1\n",
    "print(inventory)"
   ]
  },
  {
   "cell_type": "code",
   "execution_count": 45,
   "id": "2fad9af5-223c-4cfb-9826-703888d66e32",
   "metadata": {},
   "outputs": [
    {
     "name": "stdout",
     "output_type": "stream",
     "text": [
      "number of t-shirt in inventory is  53\n",
      "number of mug in inventory is  53\n",
      "number of hat in inventory is  32\n",
      "number of book in inventory is  33\n",
      "number of keychain in inventory is  53\n"
     ]
    }
   ],
   "source": [
    "#10. Print the updated inventory, displaying the quantity of each product on separate lines.\n",
    "for i in inventory:\n",
    "    print(f\"number of {i} in inventory is  {inventory[i]}\")"
   ]
  },
  {
   "cell_type": "code",
   "execution_count": null,
   "id": "4b4c26f0-f8c0-404a-94c5-d3bd3f74a7bc",
   "metadata": {},
   "outputs": [],
   "source": []
  }
 ],
 "metadata": {
  "kernelspec": {
   "display_name": "Python 3 (ipykernel)",
   "language": "python",
   "name": "python3"
  },
  "language_info": {
   "codemirror_mode": {
    "name": "ipython",
    "version": 3
   },
   "file_extension": ".py",
   "mimetype": "text/x-python",
   "name": "python",
   "nbconvert_exporter": "python",
   "pygments_lexer": "ipython3",
   "version": "3.11.7"
  }
 },
 "nbformat": 4,
 "nbformat_minor": 5
}
